{
  "nbformat": 4,
  "nbformat_minor": 0,
  "metadata": {
    "colab": {
      "provenance": [],
      "authorship_tag": "ABX9TyPW26YGzCxUpgmNCk4mTm98"
    },
    "kernelspec": {
      "name": "python3",
      "display_name": "Python 3"
    },
    "language_info": {
      "name": "python"
    }
  },
  "cells": [
    {
      "cell_type": "code",
      "execution_count": 6,
      "metadata": {
        "id": "mizVubgxW0rB"
      },
      "outputs": [],
      "source": [
        "from math import *\n",
        "import numpy as np\n",
        "import matplotlib . pyplot as plt"
      ]
    },
    {
      "cell_type": "code",
      "source": [
        "a=[1.0,1.3,1.6,1.9]\n",
        "i=0\n",
        "j=0\n",
        "q=0\n",
        "\n",
        "print(\"# iter \\t\\t p  \\t\\t q\")\n",
        "print(\"{0} \\t\\t {1:6.4f} \\t {7:6.4f}\".format(i, a, q ))\n",
        "\n",
        "while i <= max:\n",
        "\n",
        "   q=(a - a+=1-a+=1)*q,q-1 -(a-a i+=1 j+=1)q i,j-1/(a+=1 - a+=1-a+=1)\n",
        "\n",
        "    i+=1\n",
        "    j+=1\n",
        "    print(\"{0} \\t\\t {1:6.6f} \\t {2:10.10f}\".format(i, a, q ))\n",
        "    li.append()\n",
        "print(\"La raíz de la función dada en el intervalo [{0:6.4f},{1:6.4f}] es {2:10.10f}\".format(x,b,p))"
      ],
      "metadata": {
        "colab": {
          "base_uri": "https://localhost:8080/",
          "height": 130
        },
        "id": "hPZa4UCKW4bW",
        "outputId": "3e04d4bf-ddc4-437c-8dab-da1a225ba0ea"
      },
      "execution_count": 9,
      "outputs": [
        {
          "output_type": "error",
          "ename": "SyntaxError",
          "evalue": "ignored",
          "traceback": [
            "\u001b[0;36m  File \u001b[0;32m\"<ipython-input-9-a9b3d572d888>\"\u001b[0;36m, line \u001b[0;32m11\u001b[0m\n\u001b[0;31m    q=(a - a+=1-a+=1)*q,q-1 -(a-a i+=1 j+=1)q i,j-1/(a+=1 - a+=1-a+=1)\u001b[0m\n\u001b[0m            ^\u001b[0m\n\u001b[0;31mSyntaxError\u001b[0m\u001b[0;31m:\u001b[0m invalid syntax\n"
          ]
        }
      ]
    }
  ]
}